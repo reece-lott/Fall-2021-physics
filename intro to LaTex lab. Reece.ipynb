{
 "cells": [
  {
   "cell_type": "code",
   "execution_count": 1,
   "id": "c1e59d8a",
   "metadata": {},
   "outputs": [
    {
     "name": "stdout",
     "output_type": "stream",
     "text": [
      "c= 205.2\n"
     ]
    }
   ],
   "source": [
    "def fred(a,b): \n",
    "    c=(a+b)*12\n",
    "    return c\n",
    "a=13.2\n",
    "b=3.9\n",
    "c=fred(a,b)\n",
    "print(\"c=\",c)"
   ]
  },
  {
   "cell_type": "code",
   "execution_count": 4,
   "id": "0a8e8d28",
   "metadata": {},
   "outputs": [
    {
     "name": "stdout",
     "output_type": "stream",
     "text": [
      "dtotal= 1.3\n",
      "errdtotal= 0.0007071067811865475\n"
     ]
    }
   ],
   "source": [
    "import numpy as np\n",
    "def rule3 (da, db):\n",
    "    dQ=np.sqrt(da**2+db**2)\n",
    "    return dQ\n",
    "d1=1.0\n",
    "d2=0.3\n",
    "errd1=.0005\n",
    "errd2=.0005\n",
    "dtotal=d1+d2\n",
    "errdtotal=rule3(errd1,errd2)\n",
    "print(\"dtotal=\",dtotal)\n",
    "print(\"errdtotal=\",errdtotal)"
   ]
  },
  {
   "cell_type": "code",
   "execution_count": 5,
   "id": "4eef99c6",
   "metadata": {},
   "outputs": [
    {
     "name": "stdout",
     "output_type": "stream",
     "text": [
      "3.5\n",
      "1.707825127659933\n"
     ]
    }
   ],
   "source": [
    "import numpy as np\n",
    "x=np.array([1,2,3,4,5,6])\n",
    "xmean=np.average(x)\n",
    "xstdev=np.std(x)\n",
    "print(xmean)\n",
    "print(xstdev)"
   ]
  },
  {
   "cell_type": "markdown",
   "id": "057e6b26",
   "metadata": {},
   "source": [
    "$\\delta x= \\Delta = \\sigma"
   ]
  },
  {
   "cell_type": "markdown",
   "id": "e4264ae1",
   "metadata": {},
   "source": [
    "$ \\delta x = \\Delta = \\sigma"
   ]
  },
  {
   "cell_type": "markdown",
   "id": "99563030",
   "metadata": {},
   "source": [
    "$\\delta x = \\Delta = \\sigma$"
   ]
  },
  {
   "cell_type": "markdown",
   "id": "87134bb0",
   "metadata": {},
   "source": [
    "$\\frac{m_1}{\\delta m_1}$"
   ]
  },
  {
   "cell_type": "code",
   "execution_count": 13,
   "id": "709576a7",
   "metadata": {},
   "outputs": [
    {
     "name": "stdout",
     "output_type": "stream",
     "text": [
      "Q= 5.0\n",
      "dQ 5.0\n"
     ]
    }
   ],
   "source": [
    "import numpy as np\n",
    "def rule1 (da,c):\n",
    "    dQ=c*da\n",
    "    return dQ\n",
    "da=.5\n",
    "c=10\n",
    "Q=c*da\n",
    "dQ=rule1(da,c)\n",
    "print(\"Q=\",Q)\n",
    "print(\"dQ\",dQ)\n",
    "\n",
    "    \n"
   ]
  },
  {
   "cell_type": "code",
   "execution_count": 12,
   "id": "847f8ab3",
   "metadata": {},
   "outputs": [
    {
     "name": "stdout",
     "output_type": "stream",
     "text": [
      "Q 2000\n",
      "dQ 2000\n"
     ]
    }
   ],
   "source": [
    "import numpy as np\n",
    "def rule2 (c,m,A,dA):\n",
    "    dQ=c*m*A**(m-1)*dA\n",
    "    return dQ\n",
    "c=8\n",
    "m=50\n",
    "A=5\n",
    "dA=.5\n",
    "Q=c*A*(m)\n",
    "dQ=rule2(c,m,A,dA)\n",
    "print(\"Q\",Q)\n",
    "print(\"dQ\",Q)"
   ]
  },
  {
   "cell_type": "code",
   "execution_count": 14,
   "id": "1cc776be",
   "metadata": {},
   "outputs": [
    {
     "name": "stdout",
     "output_type": "stream",
     "text": [
      "Q 36\n",
      "dQ 0.12041594578792295\n"
     ]
    }
   ],
   "source": [
    "import numpy as np\n",
    "def rule3 (dA,dB):\n",
    "    dQ=np.sqrt(dA**2+dB**2)\n",
    "    return dQ\n",
    "dA=.08\n",
    "dB=.09\n",
    "A=15\n",
    "B=21\n",
    "Q=A+B\n",
    "dQ=rule3(dA,dB)\n",
    "print(\"Q\",Q)\n",
    "print(\"dQ\",dQ)\n"
   ]
  },
  {
   "cell_type": "code",
   "execution_count": 15,
   "id": "cf194bd9",
   "metadata": {},
   "outputs": [
    {
     "name": "stdout",
     "output_type": "stream",
     "text": [
      "Q 1323000\n",
      "dQ 6.422810911119835\n"
     ]
    }
   ],
   "source": [
    "import numpy as np\n",
    "def rule4 (m,n,A,dA,dB,B):\n",
    "    dQ=np.sqrt((m*dA/A)**2+(n*dB/B)**2)\n",
    "    return dQ\n",
    "m=3\n",
    "n=2\n",
    "A=10\n",
    "dA=.5\n",
    "B=21\n",
    "dB=.8\n",
    "c=3\n",
    "Q=c*A**m*B**n\n",
    "dQ=rule4(m,n,A,B,dA,dB)\n",
    "print(\"Q\",Q)\n",
    "print(\"dQ\",dQ)"
   ]
  },
  {
   "cell_type": "code",
   "execution_count": 2,
   "id": "054aaef0",
   "metadata": {},
   "outputs": [
    {
     "name": "stdout",
     "output_type": "stream",
     "text": [
      "Q 3.3705747966778605\n",
      "dQ 0.014804935462533997\n"
     ]
    }
   ],
   "source": [
    "import numpy as np\n",
    "def rule4 (m,n,A,dA,dB,B,Q):\n",
    "    dQ=Q*np.sqrt((m*dA/A)**2+(n*dB/B)**2)\n",
    "    return dQ\n",
    "m=1\n",
    "n=(-1/2)\n",
    "A=1.535\n",
    "dA=0.00550\n",
    "B=.984\n",
    "dB=0.005\n",
    "Q=A*np.sqrt(9.8/2*B)\n",
    "dQ=rule4(m,n,A,dA,dB,B,Q)\n",
    "print(\"Q\",Q)\n",
    "print(\"dQ\",dQ)\n",
    "#My results from lab was vi=3.43m/s and dvi=.015. The results given from using python to calculate the results were similar."
   ]
  },
  {
   "cell_type": "code",
   "execution_count": 39,
   "id": "74be40a0",
   "metadata": {},
   "outputs": [
    {
     "name": "stdout",
     "output_type": "stream",
     "text": [
      "xmean 1.1166666666666667\n",
      "xstdev 0.17950549357115014\n"
     ]
    }
   ],
   "source": [
    "import numpy as np\n",
    "x=np.array([1.1, 1.3, 1.4, 0.9, 0.95, 1.05])\n",
    "xmean=np.average(x)\n",
    "xstdev=np.std(x)\n",
    "print(\"xmean\",xmean)\n",
    "print(\"xstdev\",xstdev)\n",
    "#Our results for the average of the x values was xmean = 1.12 and our result for the standard deviation of x is \n",
    "# xstsdev = .180 "
   ]
  },
  {
   "cell_type": "markdown",
   "id": "62583aa4",
   "metadata": {},
   "source": [
    "$Q=A+B$ and\n",
    "$\\delta Q = \\sqrt(\\delta A^2 +\\delta B^2)$"
   ]
  },
  {
   "cell_type": "code",
   "execution_count": null,
   "id": "49eaf513",
   "metadata": {},
   "outputs": [],
   "source": []
  }
 ],
 "metadata": {
  "kernelspec": {
   "display_name": "Python 3",
   "language": "python",
   "name": "python3"
  },
  "language_info": {
   "codemirror_mode": {
    "name": "ipython",
    "version": 3
   },
   "file_extension": ".py",
   "mimetype": "text/x-python",
   "name": "python",
   "nbconvert_exporter": "python",
   "pygments_lexer": "ipython3",
   "version": "3.8.8"
  }
 },
 "nbformat": 4,
 "nbformat_minor": 5
}
